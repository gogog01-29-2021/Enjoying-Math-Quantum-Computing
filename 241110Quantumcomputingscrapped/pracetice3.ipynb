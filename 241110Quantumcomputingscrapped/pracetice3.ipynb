{
 "cells": [
  {
   "cell_type": "code",
   "execution_count": 7,
   "metadata": {},
   "outputs": [],
   "source": [
    "import numpy as np\n",
    "\n",
    "from variable import Variable\n",
    "\n",
    "var = Variable()"
   ]
  },
  {
   "cell_type": "markdown",
   "metadata": {},
   "source": [
    "1"
   ]
  },
  {
   "cell_type": "markdown",
   "metadata": {},
   "source": [
    "tr(ABC) = tr(CBA)\n",
    "\n",
    "^P_i = |i><i|\n",
    "tr(|0><0||i><i|) = tr(<i|0>**2) = p(E_i)"
   ]
  },
  {
   "cell_type": "markdown",
   "metadata": {},
   "source": [
    "2"
   ]
  },
  {
   "cell_type": "code",
   "execution_count": 8,
   "metadata": {},
   "outputs": [
    {
     "name": "stdout",
     "output_type": "stream",
     "text": [
      "True\n"
     ]
    }
   ],
   "source": [
    "print(np.all(var.i_op == (np.outer(var.ket_0, var.ket_0)+np.outer(var.ket_1, var.ket_1))) )"
   ]
  },
  {
   "cell_type": "markdown",
   "metadata": {},
   "source": [
    "3"
   ]
  },
  {
   "cell_type": "code",
   "execution_count": 9,
   "metadata": {},
   "outputs": [
    {
     "name": "stdout",
     "output_type": "stream",
     "text": [
      "True\n",
      "True\n"
     ]
    }
   ],
   "source": [
    "print(np.all(np.outer(var.ket_0, var.ket_0) == (np.eye(2)+var.rho_z_op)/2 ))\n",
    "print(np.all(np.outer(var.ket_1, var.ket_1) == (np.eye(2)-var.rho_z_op)/2))\n"
   ]
  },
  {
   "cell_type": "markdown",
   "metadata": {},
   "source": [
    "So they are opposite in rho_z_op"
   ]
  },
  {
   "cell_type": "code",
   "execution_count": 10,
   "metadata": {},
   "outputs": [
    {
     "name": "stdout",
     "output_type": "stream",
     "text": [
      "0.9853231089173329\n",
      "0.014676891082666827\n"
     ]
    }
   ],
   "source": [
    "print(np.dot(var.ket_plus, var.ket_psi)**2) ## p(E_plus)\n",
    "print(np.dot(var.ket_minus, var.ket_psi)**2) ## p(E_minus)"
   ]
  },
  {
   "cell_type": "markdown",
   "metadata": {},
   "source": [
    "Expectation = E_plus * p(E_plus) + E_minus * p(E_minus)"
   ]
  },
  {
   "cell_type": "markdown",
   "metadata": {},
   "source": [
    "Since projectors satisfy semi-positive, it satisfies the non-negativity axiom\n",
    "\n",
    "By question #1, we can replace p(E_i) = Tr(|psi><psi|Phat_i) \n",
    "We define the trace of quantum states as 1\n",
    "so, it satisfies the normalization axiom\n",
    "\n",
    "We need to show p(E_1 \\union E_2) = p(E_1) + p(E_2) s.t. E_1, E_2 are mutually exclusive\n",
    "p(E_1 \\union E_2) = <psi|P_1 + P_2 |psi> = <psi|P_1|psi> + <psi|P_2|psi> = p(E_1) + p(E_2)\n"
   ]
  }
 ],
 "metadata": {
  "kernelspec": {
   "display_name": "base",
   "language": "python",
   "name": "python3"
  },
  "language_info": {
   "codemirror_mode": {
    "name": "ipython",
    "version": 3
   },
   "file_extension": ".py",
   "mimetype": "text/x-python",
   "name": "python",
   "nbconvert_exporter": "python",
   "pygments_lexer": "ipython3",
   "version": "3.11.10"
  }
 },
 "nbformat": 4,
 "nbformat_minor": 2
}
