{
 "cells": [
  {
   "cell_type": "code",
   "execution_count": 1,
   "metadata": {},
   "outputs": [],
   "source": [
    "#pip install numpy as np"
   ]
  },
  {
   "cell_type": "code",
   "execution_count": 2,
   "metadata": {},
   "outputs": [],
   "source": [
    "import numpy as np"
   ]
  },
  {
   "cell_type": "code",
   "execution_count": 3,
   "metadata": {},
   "outputs": [],
   "source": [
    "ket_0 = np.array([1, 0])\n",
    "ket_1 = np.array([0, 1])\n",
    "ket_plus = np.array([1, 1]) / np.sqrt(2)\n",
    "ket_minus = np.array([1, -1]) / np.sqrt(2)\n",
    "ket_plus_i = np.array([1, 1j]) / np.sqrt(2)\n",
    "ket_minus_i = np.array([1, -1j]) / np.sqrt(2)\n"
   ]
  },
  {
   "cell_type": "code",
   "execution_count": 4,
   "metadata": {},
   "outputs": [
    {
     "name": "stdout",
     "output_type": "stream",
     "text": [
      "|0> =  [1 0]\n",
      "|1> =  [0 1]\n",
      "|+> =  [0.70710678 0.70710678]\n",
      "|-> =  [ 0.70710678 -0.70710678]\n",
      "|+i> =  [0.70710678+0.j         0.        +0.70710678j]\n",
      "|->i> =  [ 0.70710678+0.j         -0.        -0.70710678j]\n"
     ]
    }
   ],
   "source": [
    "print(\"|0> = \", ket_0)\n",
    "print(\"|1> = \", ket_1)\n",
    "print(\"|+> = \", ket_plus)\n",
    "print(\"|-> = \", ket_minus)\n",
    "print(\"|+i> = \", ket_plus_i)\n",
    "print(\"|->i> = \", ket_minus_i)"
   ]
  },
  {
   "cell_type": "code",
   "execution_count": 5,
   "metadata": {},
   "outputs": [],
   "source": [
    "alpha = np.random.random()+np.random.random()*1j\n",
    "beta = np.sqrt(1-alpha*np.conj(alpha))\n",
    "phi = alpha*ket_0 + beta*ket_1"
   ]
  },
  {
   "cell_type": "code",
   "execution_count": 6,
   "metadata": {},
   "outputs": [
    {
     "name": "stdout",
     "output_type": "stream",
     "text": [
      "(0.5220655465661846+0.5247864613641194j)\n",
      "(0.6723442087632469+0j)\n",
      "[0.52206555+0.52478646j 0.67234421+0.j        ]\n"
     ]
    }
   ],
   "source": [
    "print(alpha)\n",
    "print(beta)\n",
    "print(phi)"
   ]
  },
  {
   "cell_type": "code",
   "execution_count": 7,
   "metadata": {},
   "outputs": [
    {
     "name": "stdout",
     "output_type": "stream",
     "text": [
      "1\n",
      "1\n",
      "0.9999999999999998\n",
      "0.9999999999999998\n",
      "0j\n",
      "0j\n"
     ]
    }
   ],
   "source": [
    "print(np.dot(ket_0, ket_0))\n",
    "print(np.dot(ket_1, ket_1))\n",
    "print(np.dot(ket_plus, ket_plus))\n",
    "print(np.dot(ket_minus, ket_minus))\n",
    "print(np.dot(ket_plus_i, ket_plus_i))\n",
    "print(np.dot(ket_minus_i, ket_minus_i))"
   ]
  },
  {
   "cell_type": "code",
   "execution_count": 8,
   "metadata": {},
   "outputs": [
    {
     "name": "stdout",
     "output_type": "stream",
     "text": [
      "0\n",
      "0.0\n",
      "(0.9999999999999998+0j)\n"
     ]
    }
   ],
   "source": [
    "print(np.dot(ket_0, ket_1))\n",
    "print(np.dot(ket_plus, ket_minus))\n",
    "print(np.dot(ket_plus_i, ket_minus_i))"
   ]
  },
  {
   "cell_type": "code",
   "execution_count": 9,
   "metadata": {},
   "outputs": [],
   "source": [
    "p_0 = np.dot(ket_0, phi)\n",
    "p_1 = np.dot(ket_1, phi)"
   ]
  },
  {
   "cell_type": "code",
   "execution_count": 10,
   "metadata": {},
   "outputs": [
    {
     "name": "stdout",
     "output_type": "stream",
     "text": [
      "(0.5479532649425235+0j)\n",
      "(0.45204673505747645+0j)\n",
      "(1+0j)\n"
     ]
    }
   ],
   "source": [
    "print(p_0*np.conj(p_0))\n",
    "print(p_1*np.conj(p_1))\n",
    "print(p_0*np.conj(p_0)+p_1*np.conj(p_1))"
   ]
  },
  {
   "cell_type": "code",
   "execution_count": 11,
   "metadata": {},
   "outputs": [],
   "source": [
    "p_0 = np.dot(ket_plus, phi)\n",
    "p_1 = np.dot(ket_minus, phi)"
   ]
  },
  {
   "cell_type": "code",
   "execution_count": 12,
   "metadata": {},
   "outputs": [
    {
     "name": "stdout",
     "output_type": "stream",
     "text": [
      "(0.8510077468285934+0j)\n",
      "(0.14899225317140657+0j)\n",
      "(1+0j)\n"
     ]
    }
   ],
   "source": [
    "print(p_0*np.conj(p_0))\n",
    "print(p_1*np.conj(p_1))\n",
    "print(p_0*np.conj(p_0)+p_1*np.conj(p_1))"
   ]
  },
  {
   "cell_type": "code",
   "execution_count": 13,
   "metadata": {},
   "outputs": [],
   "source": [
    "p_0 = np.dot(ket_plus_i, phi)\n",
    "p_1 = np.dot(ket_minus_i, phi)"
   ]
  },
  {
   "cell_type": "code",
   "execution_count": 14,
   "metadata": {},
   "outputs": [
    {
     "name": "stdout",
     "output_type": "stream",
     "text": [
      "(0.8528371381355229+0j)\n",
      "(0.14716286186447686+0j)\n",
      "(0.9999999999999998+0j)\n"
     ]
    }
   ],
   "source": [
    "print(p_0*np.conj(p_0))\n",
    "print(p_1*np.conj(p_1))\n",
    "print(p_0*np.conj(p_0)+p_1*np.conj(p_1))"
   ]
  },
  {
   "cell_type": "code",
   "execution_count": 15,
   "metadata": {},
   "outputs": [],
   "source": [
    "x_op = np.array([[0, 1], [1, 0]])\n",
    "y_op = np.array([[0, -1j], [1j, 0]])\n",
    "z_op = np.array([[1, 0], [0, -1]])\n",
    "hadamard = np.array([[1, 1], [1, -1]]) / np.sqrt(2)\n",
    "cx_op = np.array([[1, 0, 0, 0], [0, 1, 0, 0], [0, 0, 0, 1], [0, 0, 1, 0]])"
   ]
  },
  {
   "cell_type": "code",
   "execution_count": 16,
   "metadata": {},
   "outputs": [],
   "source": [
    "conjugate_x_op = np.conj(x_op).T\n",
    "conjugate_y_op = np.conj(y_op).T\n",
    "conjugate_z_op = np.conj(z_op).T\n",
    "conjugate_hadamard = np.conj(hadamard).T\n",
    "conjugate_cx_op = np.conj(cx_op).T"
   ]
  },
  {
   "cell_type": "code",
   "execution_count": 17,
   "metadata": {},
   "outputs": [
    {
     "name": "stdout",
     "output_type": "stream",
     "text": [
      "True\n",
      "True\n",
      "True\n",
      "True\n",
      "True\n"
     ]
    }
   ],
   "source": [
    "print(np.all(x_op ==conjugate_x_op))\n",
    "print(np.all(y_op == conjugate_y_op))\n",
    "print(np.all(z_op == conjugate_z_op))\n",
    "print(np.all(hadamard== conjugate_hadamard))\n",
    "print(np.all(cx_op == conjugate_cx_op))"
   ]
  },
  {
   "cell_type": "code",
   "execution_count": 18,
   "metadata": {},
   "outputs": [
    {
     "name": "stdout",
     "output_type": "stream",
     "text": [
      "[0 1]\n",
      "[0.+0.j 0.+1.j]\n",
      "[1 0]\n",
      "[1 0]\n",
      "[0.-1.j 0.+0.j]\n",
      "[ 0 -1]\n",
      "[0.70710678 0.70710678]\n",
      "[0.-0.70710678j 0.+0.70710678j]\n",
      "[ 0.70710678 -0.70710678]\n",
      "[-0.70710678  0.70710678]\n",
      "[0.+0.70710678j 0.+0.70710678j]\n",
      "[0.70710678 0.70710678]\n",
      "[0.        +0.70710678j 0.70710678+0.j        ]\n",
      "[0.70710678+0.j         0.        +0.70710678j]\n",
      "[0.70710678+0.j         0.        -0.70710678j]\n",
      "[0.        -0.70710678j 0.70710678+0.j        ]\n",
      "[-0.70710678+0.j          0.        +0.70710678j]\n",
      "[0.70710678+0.j         0.        +0.70710678j]\n"
     ]
    }
   ],
   "source": [
    "print(np.dot(x_op, ket_0))\n",
    "print(np.dot(y_op, ket_0))\n",
    "print(np.dot(z_op, ket_0))\n",
    "print(np.dot(x_op, ket_1))\n",
    "print(np.dot(y_op, ket_1))\n",
    "print(np.dot(z_op, ket_1))\n",
    "print(np.dot(x_op, ket_plus))\n",
    "print(np.dot(y_op, ket_plus))\n",
    "print(np.dot(z_op, ket_plus))\n",
    "print(np.dot(x_op, ket_minus))\n",
    "print(np.dot(y_op, ket_minus))\n",
    "print(np.dot(z_op, ket_minus))\n",
    "print(np.dot(x_op, ket_plus_i))\n",
    "print(np.dot(y_op, ket_plus_i))\n",
    "print(np.dot(z_op, ket_plus_i))\n",
    "print(np.dot(x_op, ket_minus_i))\n",
    "print(np.dot(y_op, ket_minus_i))\n",
    "print(np.dot(z_op, ket_minus_i))"
   ]
  },
  {
   "cell_type": "code",
   "execution_count": 19,
   "metadata": {},
   "outputs": [
    {
     "name": "stdout",
     "output_type": "stream",
     "text": [
      "<function u_op at 0x000001AA635E59E0>\n"
     ]
    }
   ],
   "source": [
    "def u_op(thetha, direction):\n",
    "    operators = np.stack([x_op, y_op, z_op])\n",
    "    dot_result = np.tensordot(direction, operators, axes=(0,0))\n",
    "    u_op = np.exp(1j * thetha/2 * dot_result)\n",
    "    return u_op\n",
    "\n",
    "print(u_op)\n"
   ]
  },
  {
   "cell_type": "code",
   "execution_count": 20,
   "metadata": {},
   "outputs": [
    {
     "name": "stdout",
     "output_type": "stream",
     "text": [
      "[1.000000e+00+0.j 6.123234e-17+1.j]\n",
      "[1.        +0.j 0.20787958+0.j]\n",
      "[6.123234e-17+1.j 1.000000e+00+0.j]\n",
      "[6.123234e-17+1.j 1.000000e+00+0.j]\n",
      "[4.81047738+0.j 1.        +0.j]\n",
      "[1.000000e+00+0.j 6.123234e-17-1.j]\n"
     ]
    }
   ],
   "source": [
    "print(np.dot(u_op(np.pi, [1,0,0]), ket_0))\n",
    "print(np.dot(u_op(np.pi, [0,1,0]), ket_0))\n",
    "print(np.dot(u_op(np.pi, [0,0,1]), ket_0))\n",
    "print(np.dot(u_op(np.pi, [1,0,0]), ket_1))\n",
    "print(np.dot(u_op(np.pi, [0,1,0]), ket_1))\n",
    "print(np.dot(u_op(np.pi, [0,0,1]), ket_1))"
   ]
  },
  {
   "cell_type": "code",
   "execution_count": 21,
   "metadata": {},
   "outputs": [],
   "source": [
    "s_op = np.array([[1, 0],[0, 1j]])\n",
    "t_op = np.array([[1, 0], [0, np.exp(1j*np.pi/4)]])"
   ]
  },
  {
   "cell_type": "code",
   "execution_count": 22,
   "metadata": {},
   "outputs": [
    {
     "name": "stdout",
     "output_type": "stream",
     "text": [
      "[1 0 0 0]\n"
     ]
    }
   ],
   "source": [
    "print(np.kron(ket_0, ket_0))"
   ]
  },
  {
   "cell_type": "code",
   "execution_count": 23,
   "metadata": {},
   "outputs": [
    {
     "name": "stdout",
     "output_type": "stream",
     "text": [
      "[0.70710678 0.70710678]\n",
      "[ 0.70710678 -0.70710678]\n",
      "[1 0 0 0]\n",
      "[0.70710678 0.         0.         0.70710678]\n"
     ]
    }
   ],
   "source": [
    "print(np.dot(hadamard, ket_0))\n",
    "print(np.dot(hadamard, ket_1))\n",
    "print(np.dot(cx_op, np.kron(ket_0, ket_0)))\n",
    "print(np.dot(cx_op, np.kron(ket_plus, ket_0)))"
   ]
  }
 ],
 "metadata": {
  "kernelspec": {
   "display_name": "base",
   "language": "python",
   "name": "python3"
  },
  "language_info": {
   "codemirror_mode": {
    "name": "ipython",
    "version": 3
   },
   "file_extension": ".py",
   "mimetype": "text/x-python",
   "name": "python",
   "nbconvert_exporter": "python",
   "pygments_lexer": "ipython3",
   "version": "3.11.5"
  }
 },
 "nbformat": 4,
 "nbformat_minor": 2
}
