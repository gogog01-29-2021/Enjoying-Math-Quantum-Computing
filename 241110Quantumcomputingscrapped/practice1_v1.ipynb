{
 "cells": [
  {
   "cell_type": "code",
   "execution_count": 1,
   "metadata": {},
   "outputs": [],
   "source": [
    "#pip install numpy as np"
   ]
  },
  {
   "cell_type": "code",
   "execution_count": 2,
   "metadata": {},
   "outputs": [],
   "source": [
    "import numpy as np"
   ]
  },
  {
   "cell_type": "code",
   "execution_count": 3,
   "metadata": {},
   "outputs": [],
   "source": [
    "ket_0 = np.array([1, 0])\n",
    "ket_1 = np.array([0, 1])\n",
    "ket_plus = np.array([1, 1]) / np.sqrt(2)\n",
    "ket_minus = np.array([1, -1]) / np.sqrt(2)\n",
    "ket_plus_i = np.array([1, 1j]) / np.sqrt(2)\n",
    "ket_minus_i = np.array([1, -1j]) / np.sqrt(2)\n"
   ]
  },
  {
   "cell_type": "code",
   "execution_count": 4,
   "metadata": {},
   "outputs": [
    {
     "name": "stdout",
     "output_type": "stream",
     "text": [
      "|0> =  [1 0]\n",
      "|1> =  [0 1]\n",
      "|+> =  [0.70710678 0.70710678]\n",
      "|-> =  [ 0.70710678 -0.70710678]\n",
      "|+i> =  [0.70710678+0.j         0.        +0.70710678j]\n",
      "|->i> =  [ 0.70710678+0.j         -0.        -0.70710678j]\n"
     ]
    }
   ],
   "source": [
    "print(\"|0> = \", ket_0)\n",
    "print(\"|1> = \", ket_1)\n",
    "print(\"|+> = \", ket_plus)\n",
    "print(\"|-> = \", ket_minus)\n",
    "print(\"|+i> = \", ket_plus_i)\n",
    "print(\"|->i> = \", ket_minus_i)"
   ]
  },
  {
   "cell_type": "code",
   "execution_count": 5,
   "metadata": {},
   "outputs": [],
   "source": [
    "alpha = np.random.random()+np.random.random()*1j\n",
    "beta = np.sqrt(1-alpha*np.conj(alpha))\n",
    "phi = alpha*ket_0 + beta*ket_1"
   ]
  },
  {
   "cell_type": "code",
   "execution_count": 6,
   "metadata": {},
   "outputs": [
    {
     "name": "stdout",
     "output_type": "stream",
     "text": [
      "(0.16169474408276352+0.34746773303669676j)\n",
      "(0.9236454862307012+0j)\n",
      "[0.16169474+0.34746773j 0.92364549+0.j        ]\n"
     ]
    }
   ],
   "source": [
    "print(alpha)\n",
    "print(beta)\n",
    "print(phi)"
   ]
  },
  {
   "cell_type": "code",
   "execution_count": 7,
   "metadata": {},
   "outputs": [
    {
     "name": "stdout",
     "output_type": "stream",
     "text": [
      "1\n",
      "1\n",
      "0.9999999999999998\n",
      "0.9999999999999998\n",
      "0j\n",
      "0j\n"
     ]
    }
   ],
   "source": [
    "print(np.dot(ket_0, ket_0))\n",
    "print(np.dot(ket_1, ket_1))\n",
    "print(np.dot(ket_plus, ket_plus))\n",
    "print(np.dot(ket_minus, ket_minus))\n",
    "print(np.dot(ket_plus_i, ket_plus_i))\n",
    "print(np.dot(ket_minus_i, ket_minus_i))"
   ]
  },
  {
   "cell_type": "code",
   "execution_count": 8,
   "metadata": {},
   "outputs": [
    {
     "name": "stdout",
     "output_type": "stream",
     "text": [
      "0\n",
      "0.0\n",
      "(0.9999999999999998+0j)\n"
     ]
    }
   ],
   "source": [
    "print(np.dot(ket_0, ket_1))\n",
    "print(np.dot(ket_plus, ket_minus))\n",
    "print(np.dot(ket_plus_i, ket_minus_i))"
   ]
  },
  {
   "cell_type": "code",
   "execution_count": 9,
   "metadata": {},
   "outputs": [],
   "source": [
    "p_0 = np.dot(ket_0, phi)\n",
    "p_1 = np.dot(ket_1, phi)"
   ]
  },
  {
   "cell_type": "code",
   "execution_count": 10,
   "metadata": {},
   "outputs": [
    {
     "name": "stdout",
     "output_type": "stream",
     "text": [
      "(0.14687901576565157+0j)\n",
      "(0.8531209842343485+0j)\n",
      "(1+0j)\n"
     ]
    }
   ],
   "source": [
    "print(p_0*np.conj(p_0))\n",
    "print(p_1*np.conj(p_1))\n",
    "print(p_0*np.conj(p_0)+p_1*np.conj(p_1))"
   ]
  },
  {
   "cell_type": "code",
   "execution_count": 11,
   "metadata": {},
   "outputs": [],
   "source": [
    "p_0 = np.dot(ket_plus, phi)\n",
    "p_1 = np.dot(ket_minus, phi)"
   ]
  },
  {
   "cell_type": "code",
   "execution_count": 12,
   "metadata": {},
   "outputs": [
    {
     "name": "stdout",
     "output_type": "stream",
     "text": [
      "(0.6493486205192728+0j)\n",
      "(0.35065137948072694+0j)\n",
      "(0.9999999999999998+0j)\n"
     ]
    }
   ],
   "source": [
    "print(p_0*np.conj(p_0))\n",
    "print(p_1*np.conj(p_1))\n",
    "print(p_0*np.conj(p_0)+p_1*np.conj(p_1))"
   ]
  },
  {
   "cell_type": "code",
   "execution_count": 13,
   "metadata": {},
   "outputs": [],
   "source": [
    "p_0 = np.dot(ket_plus_i, phi)\n",
    "p_1 = np.dot(ket_minus_i, phi)"
   ]
  },
  {
   "cell_type": "code",
   "execution_count": 14,
   "metadata": {},
   "outputs": [
    {
     "name": "stdout",
     "output_type": "stream",
     "text": [
      "(0.8209370032301591+0j)\n",
      "(0.17906299676984067+0j)\n",
      "(0.9999999999999998+0j)\n"
     ]
    }
   ],
   "source": [
    "print(p_0*np.conj(p_0))\n",
    "print(p_1*np.conj(p_1))\n",
    "print(p_0*np.conj(p_0)+p_1*np.conj(p_1))"
   ]
  },
  {
   "cell_type": "code",
   "execution_count": 15,
   "metadata": {},
   "outputs": [],
   "source": [
    "x_op = np.array([[0, 1], [1, 0]])\n",
    "y_op = np.array([[0, -1j], [1j, 0]])\n",
    "z_op = np.array([[1, 0], [0, -1]])\n",
    "hadamard = np.array([[1, 1], [1, -1]]) / np.sqrt(2)\n",
    "cx_op = np.array([[1, 0, 0, 0], [0, 1, 0, 0], [0, 0, 0, 1], [0, 0, 1, 0]])"
   ]
  },
  {
   "cell_type": "code",
   "execution_count": 16,
   "metadata": {},
   "outputs": [],
   "source": [
    "conjugate_x_op = np.conj(x_op).T\n",
    "conjugate_y_op = np.conj(y_op).T\n",
    "conjugate_z_op = np.conj(z_op).T\n",
    "conjugate_hadamard = np.conj(hadamard).T\n",
    "conjugate_cx_op = np.conj(cx_op).T"
   ]
  },
  {
   "cell_type": "code",
   "execution_count": 17,
   "metadata": {},
   "outputs": [
    {
     "name": "stdout",
     "output_type": "stream",
     "text": [
      "True\n",
      "True\n",
      "True\n",
      "True\n",
      "True\n"
     ]
    }
   ],
   "source": [
    "print(np.all(x_op ==conjugate_x_op))\n",
    "print(np.all(y_op == conjugate_y_op))\n",
    "print(np.all(z_op == conjugate_z_op))\n",
    "print(np.all(hadamard== conjugate_hadamard))\n",
    "print(np.all(cx_op == conjugate_cx_op))"
   ]
  },
  {
   "cell_type": "code",
   "execution_count": 18,
   "metadata": {},
   "outputs": [
    {
     "name": "stdout",
     "output_type": "stream",
     "text": [
      "[0 1]\n",
      "[0.+0.j 0.+1.j]\n",
      "[1 0]\n",
      "[1 0]\n",
      "[0.-1.j 0.+0.j]\n",
      "[ 0 -1]\n",
      "[0.70710678 0.70710678]\n",
      "[0.-0.70710678j 0.+0.70710678j]\n",
      "[ 0.70710678 -0.70710678]\n",
      "[-0.70710678  0.70710678]\n",
      "[0.+0.70710678j 0.+0.70710678j]\n",
      "[0.70710678 0.70710678]\n",
      "[0.        +0.70710678j 0.70710678+0.j        ]\n",
      "[0.70710678+0.j         0.        +0.70710678j]\n",
      "[0.70710678+0.j         0.        -0.70710678j]\n",
      "[0.        -0.70710678j 0.70710678+0.j        ]\n",
      "[-0.70710678+0.j          0.        +0.70710678j]\n",
      "[0.70710678+0.j         0.        +0.70710678j]\n"
     ]
    }
   ],
   "source": [
    "print(np.dot(x_op, ket_0))\n",
    "print(np.dot(y_op, ket_0))\n",
    "print(np.dot(z_op, ket_0))\n",
    "print(np.dot(x_op, ket_1))\n",
    "print(np.dot(y_op, ket_1))\n",
    "print(np.dot(z_op, ket_1))\n",
    "print(np.dot(x_op, ket_plus))\n",
    "print(np.dot(y_op, ket_plus))\n",
    "print(np.dot(z_op, ket_plus))\n",
    "print(np.dot(x_op, ket_minus))\n",
    "print(np.dot(y_op, ket_minus))\n",
    "print(np.dot(z_op, ket_minus))\n",
    "print(np.dot(x_op, ket_plus_i))\n",
    "print(np.dot(y_op, ket_plus_i))\n",
    "print(np.dot(z_op, ket_plus_i))\n",
    "print(np.dot(x_op, ket_minus_i))\n",
    "print(np.dot(y_op, ket_minus_i))\n",
    "print(np.dot(z_op, ket_minus_i))"
   ]
  },
  {
   "cell_type": "code",
   "execution_count": 28,
   "metadata": {},
   "outputs": [
    {
     "name": "stdout",
     "output_type": "stream",
     "text": [
      "Matrix exponential using Taylor expansion:\n",
      "[[ 51.96890355  74.73648784]\n",
      " [112.10473176 164.07363531]]\n",
      "\n",
      "Matrix exponential using scipy.linalg.expm:\n",
      "[[ 51.9689562   74.73656457]\n",
      " [112.10484685 164.07380305]]\n",
      "\n",
      "Difference between Taylor and scipy results:\n",
      "[[5.26476479e-05 7.67301092e-05]\n",
      " [1.15095164e-04 1.67742812e-04]]\n"
     ]
    }
   ],
   "source": [
    "import numpy as np\n",
    "from scipy.linalg import expm\n",
    "\n",
    "def matrix_exp_taylor(M, terms=10):\n",
    "\n",
    "    n = M.shape[0]\n",
    "    result = np.eye(n) \n",
    "    M_power = np.eye(n)  \n",
    "    factorial = 1\n",
    "    \n",
    "    for i in range(1, terms):\n",
    "        factorial *= i\n",
    "        M_power = np.dot(M_power, M)  \n",
    "        result += M_power / factorial\n",
    "    \n",
    "    return result\n",
    "\n",
    "\n",
    "M = np.array([[1, 2], [3, 4]])\n",
    "result = matrix_exp_taylor(M, terms=20)\n",
    "print(\"Matrix exponential using Taylor expansion:\")\n",
    "print(result)\n",
    "\n",
    "scipy_result = expm(M)\n",
    "print(\"\\nMatrix exponential using scipy.linalg.expm:\")\n",
    "print(scipy_result)\n",
    "\n",
    "print(\"\\nDifference between Taylor and scipy results:\")\n",
    "print(np.abs(result - scipy_result))"
   ]
  },
  {
   "cell_type": "code",
   "execution_count": 43,
   "metadata": {},
   "outputs": [
    {
     "name": "stdout",
     "output_type": "stream",
     "text": [
      "[[ 9.99969644e-01+4.12864187e-16j -4.42412231e-05+8.88178420e-16j]\n",
      " [-6.63618346e-05-7.21644966e-16j  9.99903282e-01-4.12864187e-16j]]\n",
      "False\n"
     ]
    }
   ],
   "source": [
    "def anti_hermitian_matrix_exp_taylor(M, terms=10):\n",
    "\n",
    "    n = M.shape[0]\n",
    "    result = np.eye(n, dtype=complex) \n",
    "    M_power = np.eye(n, dtype=complex)  \n",
    "    factorial = 1\n",
    "    \n",
    "    for i in range(1, terms):\n",
    "        factorial *= i\n",
    "        M_power = np.dot(M_power, 1j*M) \n",
    "        result += M_power / factorial\n",
    "    \n",
    "    return result\n",
    "\n",
    "M = np.array([[1, 2], [3, 4]])\n",
    "expiG  = anti_hermitian_matrix_exp_taylor(M, 20)\n",
    "product = np.dot(expiG, np.conj(expiG.T).T)\n",
    "print(np.dot(expiG, np.conj(expiG.T).T))\n"
   ]
  },
  {
   "cell_type": "code",
   "execution_count": 44,
   "metadata": {},
   "outputs": [
    {
     "name": "stdout",
     "output_type": "stream",
     "text": [
      "<function u_op at 0x0000020BF6CF18A0>\n"
     ]
    }
   ],
   "source": [
    "def u_op(theta, direction):\n",
    "    operators = np.stack([x_op, y_op, z_op])\n",
    "    dot_result = np.tensordot(direction, operators, axes=(0,0))\n",
    "    u_op = expm(1j * theta/2 * dot_result)\n",
    "    return u_op\n",
    "\n",
    "print(u_op)"
   ]
  },
  {
   "cell_type": "code",
   "execution_count": 45,
   "metadata": {},
   "outputs": [
    {
     "name": "stdout",
     "output_type": "stream",
     "text": [
      "[6.123234e-17+0.j 0.000000e+00+1.j]\n",
      "[ 6.123234e-17+0.j -1.000000e+00+0.j]\n",
      "[6.123234e-17+1.j 0.000000e+00+0.j]\n",
      "[0.000000e+00+1.j 6.123234e-17+0.j]\n",
      "[1.000000e+00+0.j 6.123234e-17+0.j]\n",
      "[0.000000e+00+0.j 6.123234e-17-1.j]\n"
     ]
    }
   ],
   "source": [
    "print(np.dot(u_op(np.pi, [1,0,0]), ket_0))\n",
    "print(np.dot(u_op(np.pi, [0,1,0]), ket_0))\n",
    "print(np.dot(u_op(np.pi, [0,0,1]), ket_0))\n",
    "print(np.dot(u_op(np.pi, [1,0,0]), ket_1))\n",
    "print(np.dot(u_op(np.pi, [0,1,0]), ket_1))\n",
    "print(np.dot(u_op(np.pi, [0,0,1]), ket_1))"
   ]
  },
  {
   "cell_type": "code",
   "execution_count": 25,
   "metadata": {},
   "outputs": [],
   "source": [
    "s_op = np.array([[1, 0],[0, 1j]])\n",
    "t_op = np.array([[1, 0], [0, np.exp(1j*np.pi/4)]])"
   ]
  },
  {
   "cell_type": "code",
   "execution_count": 26,
   "metadata": {},
   "outputs": [
    {
     "name": "stdout",
     "output_type": "stream",
     "text": [
      "[1 0 0 0]\n"
     ]
    }
   ],
   "source": [
    "print(np.kron(ket_0, ket_0))"
   ]
  },
  {
   "cell_type": "code",
   "execution_count": 27,
   "metadata": {},
   "outputs": [
    {
     "name": "stdout",
     "output_type": "stream",
     "text": [
      "[0.70710678 0.70710678]\n",
      "[ 0.70710678 -0.70710678]\n",
      "[1 0 0 0]\n",
      "[0.70710678 0.         0.         0.70710678]\n"
     ]
    }
   ],
   "source": [
    "print(np.dot(hadamard, ket_0))\n",
    "print(np.dot(hadamard, ket_1))\n",
    "print(np.dot(cx_op, np.kron(ket_0, ket_0)))\n",
    "print(np.dot(cx_op, np.kron(ket_plus, ket_0)))"
   ]
  }
 ],
 "metadata": {
  "kernelspec": {
   "display_name": "base",
   "language": "python",
   "name": "python3"
  },
  "language_info": {
   "codemirror_mode": {
    "name": "ipython",
    "version": 3
   },
   "file_extension": ".py",
   "mimetype": "text/x-python",
   "name": "python",
   "nbconvert_exporter": "python",
   "pygments_lexer": "ipython3",
   "version": "3.11.5"
  }
 },
 "nbformat": 4,
 "nbformat_minor": 2
}
