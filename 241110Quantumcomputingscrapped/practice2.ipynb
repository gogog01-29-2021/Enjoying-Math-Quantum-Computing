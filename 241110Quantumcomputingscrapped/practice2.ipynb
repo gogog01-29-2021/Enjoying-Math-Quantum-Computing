{
 "cells": [
  {
   "cell_type": "code",
   "execution_count": 1,
   "metadata": {},
   "outputs": [],
   "source": [
    "import numpy as np"
   ]
  },
  {
   "cell_type": "code",
   "execution_count": 2,
   "metadata": {},
   "outputs": [],
   "source": [
    "ket_0 = np.array([1, 0])\n",
    "ket_1 = np.array([0, 1])\n",
    "ket_plus = np.array([1, 1]) / np.sqrt(2)\n",
    "ket_minus = np.array([1, -1]) / np.sqrt(2)\n",
    "ket_plus_i = np.array([1, 1j]) / np.sqrt(2)\n",
    "ket_minus_i = np.array([1, -1j]) / np.sqrt(2)\n",
    "\n",
    "alpha = np.random.random()\n",
    "beta = np.sqrt(1-alpha**2)\n",
    "ket_phi = alpha*ket_0 + beta*ket_1"
   ]
  },
  {
   "cell_type": "code",
   "execution_count": 3,
   "metadata": {},
   "outputs": [],
   "source": [
    "i_op = np.eye(2)\n",
    "rho_x_op = np.array([[0, 1], [1, 0]])\n",
    "rho_y_op = np.array([[0, -1j], [1j, 0]])\n",
    "rho_z_op = np.array([[1, 0], [0, -1]])"
   ]
  },
  {
   "cell_type": "code",
   "execution_count": 4,
   "metadata": {},
   "outputs": [
    {
     "name": "stdout",
     "output_type": "stream",
     "text": [
      "True\n",
      "False\n",
      "True\n"
     ]
    }
   ],
   "source": [
    "print(np.all(rho_x_op == rho_x_op.T))\n",
    "print(np.all(rho_y_op == rho_y_op.T))\n",
    "print(np.all(rho_z_op == rho_z_op.T))"
   ]
  },
  {
   "cell_type": "code",
   "execution_count": 5,
   "metadata": {},
   "outputs": [
    {
     "name": "stdout",
     "output_type": "stream",
     "text": [
      "True\n",
      "True\n",
      "True\n"
     ]
    }
   ],
   "source": [
    "print(np.all(np.dot(rho_x_op, rho_x_op) == i_op))\n",
    "print(np.all(np.dot(rho_y_op, rho_y_op) == i_op))\n",
    "print(np.all(np.dot(rho_z_op, rho_z_op) == i_op))"
   ]
  },
  {
   "cell_type": "code",
   "execution_count": 6,
   "metadata": {},
   "outputs": [
    {
     "name": "stdout",
     "output_type": "stream",
     "text": [
      "True\n"
     ]
    }
   ],
   "source": [
    "print(np.all(np.dot(i_op, ket_phi) == ket_phi))\n"
   ]
  },
  {
   "cell_type": "code",
   "execution_count": 7,
   "metadata": {},
   "outputs": [
    {
     "name": "stdout",
     "output_type": "stream",
     "text": [
      "[0.70710678 0.70710678]\n",
      "[-0.70710678  0.70710678]\n",
      "[0.70710678+0.j         0.        +0.70710678j]\n",
      "[-0.70710678+0.j          0.        +0.70710678j]\n",
      "[1 0]\n",
      "[ 0 -1]\n"
     ]
    }
   ],
   "source": [
    "print(np.dot(rho_x_op, ket_plus))\n",
    "print(np.dot(rho_x_op, ket_minus))\n",
    "\n",
    "print(np.dot(rho_y_op, ket_plus_i))\n",
    "print(np.dot(rho_y_op, ket_minus_i))\n",
    "\n",
    "print(np.dot(rho_z_op, ket_0))\n",
    "print(np.dot(rho_z_op, ket_1))"
   ]
  },
  {
   "cell_type": "code",
   "execution_count": 8,
   "metadata": {},
   "outputs": [],
   "source": [
    "c0, c_x, c_y, c_z = 1,1,1,1\n",
    "rho_op = c0*i_op + c_x*rho_x_op + c_y*rho_y_op + c_z*rho_z_op\n"
   ]
  },
  {
   "cell_type": "code",
   "execution_count": 9,
   "metadata": {},
   "outputs": [
    {
     "name": "stdout",
     "output_type": "stream",
     "text": [
      "0\n",
      "0j\n",
      "0\n",
      "2\n",
      "0j\n",
      "0\n",
      "0j\n",
      "(2+0j)\n",
      "0j\n",
      "0\n",
      "0j\n",
      "2\n",
      "True\n",
      "(2+0j)\n",
      "(2+0j)\n",
      "(2+0j)\n",
      "(2+0j)\n"
     ]
    }
   ],
   "source": [
    "print(np.trace(rho_x_op))\n",
    "print(np.trace(rho_y_op))\n",
    "print(np.trace(rho_z_op))\n",
    "\n",
    "print(np.trace(np.dot(rho_x_op, rho_x_op)))\n",
    "print(np.trace(np.dot(rho_x_op, rho_y_op)))\n",
    "print(np.trace(np.dot(rho_x_op, rho_z_op)))\n",
    "\n",
    "print(np.trace(np.dot(rho_y_op, rho_x_op)))\n",
    "print(np.trace(np.dot(rho_y_op, rho_y_op)))\n",
    "print(np.trace(np.dot(rho_y_op, rho_z_op)))\n",
    "\n",
    "print(np.trace(np.dot(rho_z_op, rho_x_op)))\n",
    "print(np.trace(np.dot(rho_z_op, rho_y_op)))\n",
    "print(np.trace(np.dot(rho_z_op, rho_z_op)))\n",
    "\n",
    "\n",
    "print(np.trace(np.dot(rho_x_op, rho_y_op)) == np.trace(np.dot(rho_y_op, rho_x_op)))\n",
    "\n",
    "print(np.trace(np.dot(rho_op, i_op)))\n",
    "print(np.trace(np.dot(rho_op, rho_x_op)))\n",
    "print(np.trace(np.dot(rho_op, rho_y_op)))\n",
    "print(np.trace(np.dot(rho_op, rho_z_op)))"
   ]
  },
  {
   "cell_type": "code",
   "execution_count": 10,
   "metadata": {},
   "outputs": [],
   "source": [
    "density_matrix = np.dot(np.conj(rho_op).T, rho_op)"
   ]
  },
  {
   "cell_type": "code",
   "execution_count": 11,
   "metadata": {},
   "outputs": [
    {
     "name": "stdout",
     "output_type": "stream",
     "text": [
      "True\n"
     ]
    }
   ],
   "source": [
    "print(np.all(density_matrix == np.conj(density_matrix).T))"
   ]
  },
  {
   "cell_type": "code",
   "execution_count": 13,
   "metadata": {},
   "outputs": [
    {
     "name": "stdout",
     "output_type": "stream",
     "text": [
      "[[1 0]\n",
      " [0 0]]\n",
      "[[0 0]\n",
      " [0 1]]\n",
      "[[1. 0.]\n",
      " [0. 0.]]\n",
      "[[0. 0.]\n",
      " [0. 1.]]\n",
      "True\n",
      "True\n"
     ]
    }
   ],
   "source": [
    "print(np.outer(ket_0, ket_0))\n",
    "print(np.outer(ket_1, ket_1))\n",
    "\n",
    "print(1/2*(i_op + rho_z_op))\n",
    "print(1/2*(i_op - rho_z_op))\n",
    "\n",
    "print(np.all(   np.outer(ket_0, ket_0) == 1/2*(i_op + rho_z_op)))\n",
    "print(np.all(np.outer(ket_1, ket_1) == 1/2*(i_op - rho_z_op)))\n"
   ]
  }
 ],
 "metadata": {
  "kernelspec": {
   "display_name": "base",
   "language": "python",
   "name": "python3"
  },
  "language_info": {
   "codemirror_mode": {
    "name": "ipython",
    "version": 3
   },
   "file_extension": ".py",
   "mimetype": "text/x-python",
   "name": "python",
   "nbconvert_exporter": "python",
   "pygments_lexer": "ipython3",
   "version": "3.11.5"
  }
 },
 "nbformat": 4,
 "nbformat_minor": 2
}
